{
 "cells": [
  {
   "cell_type": "code",
   "execution_count": 51,
   "metadata": {},
   "outputs": [
    {
     "name": "stderr",
     "output_type": "stream",
     "text": [
      "[nltk_data] Downloading package punkt_tab to\n",
      "[nltk_data]     C:\\Users\\mehdi\\AppData\\Roaming\\nltk_data...\n",
      "[nltk_data]   Package punkt_tab is already up-to-date!\n"
     ]
    },
    {
     "data": {
      "text/plain": [
       "True"
      ]
     },
     "execution_count": 51,
     "metadata": {},
     "output_type": "execute_result"
    }
   ],
   "source": [
    "import os\n",
    "from dotenv import load_dotenv \n",
    "from langchain_community.retrievers import PineconeHybridSearchRetriever\n",
    "from pinecone import Pinecone,ServerlessSpec\n",
    "from langchain_huggingface import HuggingFaceEmbeddings\n",
    "from langchain_openai.embeddings import OpenAIEmbeddings\n",
    "from langchain_openai.chat_models import ChatOpenAI\n",
    "from pinecone_text.sparse import BM25Encoder\n",
    "from langchain_community.retrievers import BM25Retriever\n",
    "from langchain.retrievers import EnsembleRetriever\n",
    "from langchain_community.vectorstores.faiss import FAISS\n",
    "from langchain.prompts import ChatPromptTemplate \n",
    "from langchain.chains.combine_documents import create_stuff_documents_chain\n",
    "from langchain.chains import create_retrieval_chain\n",
    "import nltk\n",
    "load_dotenv()\n",
    "nltk.download('punkt_tab')"
   ]
  },
  {
   "cell_type": "code",
   "execution_count": 2,
   "metadata": {},
   "outputs": [],
   "source": [
    "index_database_name = \"hybrid-rag-search-langchain-db\"\n",
    "pinecone = Pinecone(api_key=os.getenv('PINECONE_API_KEY'))\n",
    "api_key = os.getenv('OPENAI_API_KEY')\n",
    "\n",
    "if index_database_name not in pinecone.list_indexes().names():\n",
    "    pinecone.create_index(\n",
    "        name=index_database_name,\n",
    "        dimension=384,\n",
    "        metric=\"dotproduct\",\n",
    "        spec=ServerlessSpec(\n",
    "            cloud=\"aws\",\n",
    "            region=\"us-east-1\"\n",
    "        ),\n",
    "    )"
   ]
  },
  {
   "cell_type": "code",
   "execution_count": 3,
   "metadata": {},
   "outputs": [
    {
     "data": {
      "text/plain": [
       "<pinecone.data.index.Index at 0x1dac15f6590>"
      ]
     },
     "execution_count": 3,
     "metadata": {},
     "output_type": "execute_result"
    }
   ],
   "source": [
    "pinecone_index = pinecone.Index(index_database_name)\n",
    "pinecone_index"
   ]
  },
  {
   "cell_type": "code",
   "execution_count": 6,
   "metadata": {},
   "outputs": [],
   "source": [
    "dense_embeddingsModel = OpenAIEmbeddings(model=\"text-embedding-3-small\", api_key=os.getenv('OPENAI_API_KEY'))"
   ]
  },
  {
   "cell_type": "code",
   "execution_count": 15,
   "metadata": {},
   "outputs": [],
   "source": [
    "documents = [\n",
    "    \"In the morning , i eat eggs and cup of milk\",\n",
    "    \"In the afternoon  , i eat chicken and the some potatos\",\n",
    "    \"In the evening , i eat a salade and fuits\"\n",
    "    ]"
   ]
  },
  {
   "cell_type": "code",
   "execution_count": 20,
   "metadata": {},
   "outputs": [
    {
     "data": {
      "text/plain": [
       "<bound method BaseModel.dict of BM25Retriever(vectorizer=<rank_bm25.BM25Okapi object at 0x000001DAC5CF2200>, k=3)>"
      ]
     },
     "execution_count": 20,
     "metadata": {},
     "output_type": "execute_result"
    }
   ],
   "source": [
    "bm25_retriever = BM25Retriever.from_texts(documents)\n",
    "bm25_retriever.k = 3\n",
    "bm25_retriever.get_relevant_documents('milk')"
   ]
  },
  {
   "cell_type": "code",
   "execution_count": 43,
   "metadata": {},
   "outputs": [],
   "source": [
    "faiss_vectorestore = FAISS.from_texts(documents,dense_embeddingsModel)\n",
    "faiss_retriever = faiss_vectorestore.as_retriever(kwargs={\n",
    "    'search_kwargs':3\n",
    "})"
   ]
  },
  {
   "cell_type": "code",
   "execution_count": 44,
   "metadata": {},
   "outputs": [
    {
     "data": {
      "text/plain": [
       "[Document(page_content='In the evening , i eat a salade and fuits'),\n",
       " Document(page_content='In the morning , i eat eggs and cup of milk'),\n",
       " Document(page_content='In the afternoon  , i eat chicken and the some potatos')]"
      ]
     },
     "execution_count": 44,
     "metadata": {},
     "output_type": "execute_result"
    }
   ],
   "source": [
    "faiss_retriever.get_relevant_documents('fruits')"
   ]
  },
  {
   "cell_type": "code",
   "execution_count": 50,
   "metadata": {},
   "outputs": [],
   "source": [
    "ensembleRetriever = EnsembleRetriever(retrievers=[faiss_retriever,bm25_retriever],weights=[0.5,0.5])"
   ]
  },
  {
   "cell_type": "code",
   "execution_count": 49,
   "metadata": {},
   "outputs": [],
   "source": [
    "llmModel = ChatOpenAI(model=\"gpt-4o\",api_key=os.getenv('OPENAI_API_KEY'))\n",
    "prompt=ChatPromptTemplate.from_template(\n",
    "    \"\"\"\n",
    "    try to give answers of the following question based only on the provided context between <context> tags.\n",
    "    Think step by step before generating the detailed answer.\n",
    "    <context>\n",
    "    {context}\n",
    "    </context>\n",
    "    Question : {input}\n",
    "    \"\"\"\n",
    ")\n",
    "document_chain=create_stuff_documents_chain(llm=llmModel,prompt=prompt)"
   ]
  },
  {
   "cell_type": "code",
   "execution_count": 54,
   "metadata": {},
   "outputs": [
    {
     "data": {
      "text/plain": [
       "'Let\\'s break down the information provided in the context step by step to determine what you usually eat in the morning.\\n\\n1. The context mentions different meals for various times of the day.\\n2. For the morning, it states: \"In the morning, I eat eggs and cup of milk.\"\\n3. This clearly specifies the items you consume in the morning.\\n\\nTherefore, based on the provided context, you usually eat **eggs** and a **cup of milk** in the morning.'"
      ]
     },
     "execution_count": 54,
     "metadata": {},
     "output_type": "execute_result"
    }
   ],
   "source": [
    "retrievel_chain=create_retrieval_chain(ensembleRetriever,document_chain)\n",
    "retriever_response=retrievel_chain.invoke({\"input\":\"what i usually eat in the morning ?\"})\n",
    "retriever_response_dict={\n",
    "    \"question\":retriever_response['input'],\n",
    "    \"answer\":retriever_response['answer']\n",
    "}\n",
    "retriever_response_dict[\"answer\"]"
   ]
  }
 ],
 "metadata": {
  "kernelspec": {
   "display_name": "Python 3",
   "language": "python",
   "name": "python3"
  },
  "language_info": {
   "codemirror_mode": {
    "name": "ipython",
    "version": 3
   },
   "file_extension": ".py",
   "mimetype": "text/x-python",
   "name": "python",
   "nbconvert_exporter": "python",
   "pygments_lexer": "ipython3",
   "version": "3.10.0"
  }
 },
 "nbformat": 4,
 "nbformat_minor": 2
}
